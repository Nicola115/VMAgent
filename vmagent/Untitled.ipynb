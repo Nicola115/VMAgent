{
 "cells": [
  {
   "cell_type": "markdown",
   "id": "9f36a67b",
   "metadata": {},
   "source": [
    "## actor model"
   ]
  },
  {
   "cell_type": "code",
   "execution_count": 1,
   "id": "077571cb",
   "metadata": {},
   "outputs": [],
   "source": [
    "import torch.nn as nn\n",
    "import torch.nn.functional as F\n",
    "import torch as th\n",
    "import numpy as np\n",
    "import copy\n",
    "import torch.autograd as autograd\n",
    "from einops import rearrange, reduce"
   ]
  },
  {
   "cell_type": "code",
   "execution_count": 19,
   "id": "d6fba5cf",
   "metadata": {},
   "outputs": [],
   "source": [
    "class QmixAgentForDeployGumbelSoftmax(nn.Module):\n",
    "    def __init__(self, state_space, act_space):\n",
    "        super(QmixAgentForDeployGumbelSoftmax, self).__init__()\n",
    "        # state_space = (2*5,node_num*10,pod_num)\n",
    "        self.state_space = state_space\n",
    "        self.resource_num = state_space[0]\n",
    "        self.node_num = state_space[1]/10\n",
    "        self.pod_num = state_space[2]\n",
    "        self.act_space = act_space\n",
    "        assert self.act_space == self.pod_num*self.node_num,f'wrong act_space: {self.act_space}, pod_num={self.pod_num}, node_num = {self.node_num}'\n",
    "\n",
    "        self.features = nn.Sequential(\n",
    "            nn.Conv2d(self.resource_num,32,kernel_size=2,stride=1),\n",
    "            nn.ReLU(),\n",
    "            nn.Conv2d(32,64,kernel_size=2,stride=1),\n",
    "            nn.ReLU(),\n",
    "            nn.Conv2d(64,64,kernel_size=2,stride=1),\n",
    "            nn.ReLU()\n",
    "        )\n",
    "\n",
    "        self.fc = nn.Sequential(\n",
    "            nn.Linear(self.feature_size(),512),\n",
    "            nn.ReLU(),\n",
    "            nn.Linear(512,self.act_space)\n",
    "        )\n",
    "\n",
    "    def feature_size(self):\n",
    "        print(self.state_space)\n",
    "        return self.features(autograd.Variable(th.zeros(1,*self.state_space))).view(1,-1).size(-1)\n",
    "    \n",
    "    def forward(self, x):\n",
    "        # x = (5, node_num*10,pod_num,resource_type)\n",
    "        assert x.dim()==4 or x.dim()==5,f'{x.dim()}'\n",
    "        if x.dim() == 5:\n",
    "            x = rearrage(x, 'b1 b2 n p c -> b1 (b2 c) p n')\n",
    "        elif x.dim() == 4:\n",
    "            x = rearrange(x, 'b n p c -> (b c) p n')\n",
    "            x = rearrange(x, 'b p n -> 1 b p n')\n",
    "            \n",
    "        x = self.features(x)\n",
    "        x = x.view(x.size(0),-1)\n",
    "        x = self.fc(x)\n",
    "        logits = rearrange(x, 'b (p n) -> b p n',p=self.pod_num)\n",
    "        action = F.gumbel_softmax(logits, tau=1, hard=True)\n",
    "        return action"
   ]
  },
  {
   "cell_type": "code",
   "execution_count": 20,
   "id": "413ed5b6",
   "metadata": {},
   "outputs": [
    {
     "name": "stdout",
     "output_type": "stream",
     "text": [
      "(10, 20, 6)\n"
     ]
    }
   ],
   "source": [
    "inputs = th.randn(5, 20, 6, 2)\n",
    "agent = QmixAgentForDeployGumbelSoftmax((10,20,6),2*6)"
   ]
  },
  {
   "cell_type": "code",
   "execution_count": 21,
   "id": "a1fca48c",
   "metadata": {},
   "outputs": [
    {
     "name": "stdout",
     "output_type": "stream",
     "text": [
      "torch.Size([1, 64, 3, 17])\n",
      "torch.Size([1, 3264])\n"
     ]
    }
   ],
   "source": [
    "action = agent.forward(inputs)"
   ]
  },
  {
   "cell_type": "code",
   "execution_count": null,
   "id": "69b83f5c",
   "metadata": {},
   "outputs": [],
   "source": []
  }
 ],
 "metadata": {
  "kernelspec": {
   "display_name": "Python 3 (ipykernel)",
   "language": "python",
   "name": "python3"
  },
  "language_info": {
   "codemirror_mode": {
    "name": "ipython",
    "version": 3
   },
   "file_extension": ".py",
   "mimetype": "text/x-python",
   "name": "python",
   "nbconvert_exporter": "python",
   "pygments_lexer": "ipython3",
   "version": "3.7.0"
  }
 },
 "nbformat": 4,
 "nbformat_minor": 5
}
